{
  "nbformat": 4,
  "nbformat_minor": 0,
  "metadata": {
    "colab": {
      "provenance": [],
      "mount_file_id": "1GhAoY6FnsWGLCKG2Zbth5NgPOmB7QGQN",
      "authorship_tag": "ABX9TyNtf0tAdXDvlTmRN6tLmQXZ",
      "include_colab_link": true
    },
    "kernelspec": {
      "name": "python3",
      "display_name": "Python 3"
    },
    "language_info": {
      "name": "python"
    }
  },
  "cells": [
    {
      "cell_type": "markdown",
      "metadata": {
        "id": "view-in-github",
        "colab_type": "text"
      },
      "source": [
        "<a href=\"https://colab.research.google.com/github/LauraAva/LauraAva/blob/main/DATA_CLEANSING.ipynb\" target=\"_parent\"><img src=\"https://colab.research.google.com/assets/colab-badge.svg\" alt=\"Open In Colab\"/></a>"
      ]
    },
    {
      "cell_type": "markdown",
      "source": [
        "# STEP 1: Select Datasets\n",
        "\n",
        "\n"
      ],
      "metadata": {
        "id": "5aGQ_PhYAWhq"
      }
    },
    {
      "cell_type": "markdown",
      "source": [
        "# Path for CL datasets"
      ],
      "metadata": {
        "id": "2GV00Ks1Aorz"
      }
    },
    {
      "cell_type": "code",
      "source": [
        "\n",
        "path_cl_2012 = '/content/drive/MyDrive/Colab Notebooks/cl_2012.xlsx' # This is the path where the files are located\n",
        "\n",
        "path_cl_2013 = '/content/drive/MyDrive/Colab Notebooks/cl_2013.xlsx' # This is the path where the files are located\n",
        "\n",
        "path_cl_2014 = '/content/drive/MyDrive/Colab Notebooks/cl_2014.xlsx' # This is the path where the files are located\n"
      ],
      "metadata": {
        "id": "PERKA2gdB8Jj"
      },
      "execution_count": null,
      "outputs": []
    },
    {
      "cell_type": "markdown",
      "source": [
        "# Step 2 : Uploading Datasets to Google Drive and import the libraries"
      ],
      "metadata": {
        "id": "KB74POGdCly3"
      }
    },
    {
      "cell_type": "code",
      "source": [
        "from google.colab import drive\n",
        "drive.mount('/content/drive')\n"
      ],
      "metadata": {
        "id": "y4_agC0yDIeO",
        "colab": {
          "base_uri": "https://localhost:8080/"
        },
        "outputId": "2e6470b8-5e16-49f9-fbae-9b2a3896d1ef"
      },
      "execution_count": 241,
      "outputs": [
        {
          "output_type": "stream",
          "name": "stdout",
          "text": [
            "Drive already mounted at /content/drive; to attempt to forcibly remount, call drive.mount(\"/content/drive\", force_remount=True).\n"
          ]
        }
      ]
    },
    {
      "cell_type": "code",
      "source": [
        "import pandas as pd\n",
        "import numpy as np\n",
        "import seaborn as sns\n",
        "import matplotlib.pyplot as plt"
      ],
      "metadata": {
        "id": "FnKp8J6TCd5J"
      },
      "execution_count": null,
      "outputs": []
    },
    {
      "cell_type": "markdown",
      "source": [
        "# Step 3 : Read the files making conection between google drive and google colab"
      ],
      "metadata": {
        "id": "3AFs0FLVDWlu"
      }
    },
    {
      "cell_type": "code",
      "source": [
        "# Path for CL Datasets\n",
        "\n",
        "path_cl_2012 = '/content/drive/MyDrive/Colab Notebooks/cl_2012.xlsx' # This is the path where the files are located\n",
        "path_cl_2013 = '/content/drive/MyDrive/Colab Notebooks/cl_2013.xlsx' # This is the path where the files are located\n",
        "path_cl_2014 = '/content/drive/MyDrive/Colab Notebooks/cl_2014.xlsx' # This is the path where the files are located\n"
      ],
      "metadata": {
        "id": "5lg81yYSDcsH"
      },
      "execution_count": null,
      "outputs": []
    },
    {
      "cell_type": "code",
      "source": [
        "\n",
        "df_cl_2012 = pd.read_excel(path_cl_2012)\n",
        "df_cl_2013 = pd.read_excel(path_cl_2013)\n",
        "df_cl_2014 = pd.read_excel(path_cl_2014)"
      ],
      "metadata": {
        "id": "HMyE_VKuAhe0"
      },
      "execution_count": null,
      "outputs": []
    },
    {
      "cell_type": "markdown",
      "source": [
        "# security Copy"
      ],
      "metadata": {
        "id": "aEfrVFyFAkHT"
      }
    },
    {
      "cell_type": "code",
      "source": [
        "df_cl_1 = df_cl_2012.copy(deep = True)\n",
        "df_cl_2 = df_cl_2013.copy(deep = True)\n",
        "df_cl_3 = df_cl_2014.copy(deep = True)"
      ],
      "metadata": {
        "id": "pDD28nEDAjtc"
      },
      "execution_count": null,
      "outputs": []
    },
    {
      "cell_type": "markdown",
      "source": [
        "# Step 4 :Normalizing names for every column name for every CL Dataset. First create the dictionaries for every table. There are three dictionaries because the 2013/14 Dataset has different column name for the field fuel type and the\n",
        "\n",
        "#**Concatenate all the tables from CL and called it CL Union**"
      ],
      "metadata": {
        "id": "W2kcZp9mDunI"
      }
    },
    {
      "cell_type": "code",
      "source": [
        "df_cl_1.info()"
      ],
      "metadata": {
        "id": "nLMBeoLTAtfB"
      },
      "execution_count": null,
      "outputs": []
    },
    {
      "cell_type": "code",
      "source": [
        "df_cl_2.info()"
      ],
      "metadata": {
        "id": "VO_9KMW3A2B4"
      },
      "execution_count": null,
      "outputs": []
    },
    {
      "cell_type": "code",
      "source": [
        "df_cl_3.info()"
      ],
      "metadata": {
        "id": "VwRQ4lKUA3pp"
      },
      "execution_count": null,
      "outputs": []
    },
    {
      "cell_type": "code",
      "execution_count": null,
      "metadata": {
        "id": "l5uM6rMEPt4n"
      },
      "outputs": [],
      "source": [
        "Dictionary_2012 = {'lib_mrq':'brand', 'lib_mod_doss':'Model_file', 'lib_mod':'Model_UTAC',\n",
        "                   'dscom':'Commercial_name', 'cnit':'Code_National_Identification_Type',\n",
        "                   'tvv':'Type_Variante_Version(TVV)','typ_cbr':'fuel_type',\n",
        "                   'hybride':'Hybride','puiss_admin_98':'Administrative_power','puiss_max':'power_maximal (kW)','typ_boite_nb_rapp':'Gearbox',\n",
        "                   'conso_urb':'Urban_consumption (l/100km)',\n",
        "                   'conso_exurb':'Extra_urban_consumption(l/100km)','conso_mixte':'Consumption_mix(l/100km)',\n",
        "                   'co2':'CO2','co_typ_1':'CO_type_I (g/km)',\n",
        "                   'hc':'hc','nox':'nox',\n",
        "                   'hcnox':'hcnox','ptcl':'Particles', 'masse_ordma_min':'Empty_mass_min(kg)',\n",
        "                   'masse_ordma_max':'Empty_mass_max(kg)',\n",
        "                   'champ_v9':'Champ_V9','date_maj':'Missing_data','Carosserie':'Carosserie',\n",
        "                   'gamme':'range'}\n",
        "\n",
        "\n",
        "Dictionary_2013 = {'Marque':'brand','Modèle dossier':'Model_file', 'Modèle UTAC':'Model_UTAC',\n",
        "                   'Désignation commerciale':'Commercial_name', 'CNIT':'Code_National_Identification_Type',\n",
        "                   ' Type Variante Version (TVV)':'Type_Variante_Version(TVV)','Carburant':'fuel_type',\n",
        "                   'Hybride':'Hybride','Puissance administrative':'Administrative_power','Puissance maximale (kW)':'power_maximal (kW)','Boîte de vitesse':'Gearbox',\n",
        "                   'Consommation urbaine (l/100km)':'Urban_consumption (l/100km)',\n",
        "                   'Consommation extra-urbaine (l/100km)':'Extra_urban_consumption(l/100km)','Consommation mixte (l/100km)':'Consumption_mix(l/100km)',\n",
        "                   'CO2 (g/km)':'CO2','CO type I (g/km)':'CO_type_I (g/km)',\n",
        "                   'hc':'hc','nox':'nox',\n",
        "                   'hcnox':'hcnox','Particules (g/km)':'Particles', 'masse vide euro min (kg)':'Empty_mass_min(kg)',\n",
        "                   'masse vide euro max (kg)':'Empty_mass_max(kg)',\n",
        "                   'Champ V9':'Champ_V9','Date de mise à jour':'Missing_data','Carosserie':'Carosserie',\n",
        "                   'gamme':'range'}\n",
        "\n",
        "\n",
        "\n",
        "\n",
        "\n",
        "Dictionary_2014 = {'lib_mrq':'brand','lib_mod_doss':'Model_file', 'lib_mod':'Model_UTAC',\n",
        "                   'dscom':'Commercial_name', 'cnit':'Code_National_Identification_Type',\n",
        "                   'tvv':'Type_Variante_Version(TVV)','cod_cbr':'fuel_type',\n",
        "                   'hybride':'Hybride','puiss_admin_98':'Administrative_power','puiss_max':'power_maximal (kW)','typ_boite_nb_rapp':'Gearbox',\n",
        "                   'conso_urb':'Urban_consumption (l/100km)',\n",
        "                   'conso_exurb':'Extra_urban_consumption(l/100km)','conso_mixte':'Consumption_mix(l/100km)',\n",
        "                   'co2':'CO2','co_typ_1':'CO_type_I (g/km)',\n",
        "                   'hc':'hc','nox':'nox',\n",
        "                   'hcnox':'hcnox','ptcl':'Particles', 'masse_ordma_min':'Empty_mass_min(kg)',\n",
        "                   'masse_ordma_max':'Empty_mass_max(kg)',\n",
        "                   'champ_v9':'Champ_V9','date_maj':'Missing_data','Carosserie':'Carosserie',\n",
        "                   'gamme':'range'}\n",
        "\n",
        "\n",
        "df_cl_1 = df_cl_1.rename(Dictionary_2012, axis = 1)\n",
        "df_cl_2 = df_cl_2.rename(Dictionary_2013, axis = 1)\n",
        "df_cl_3 = df_cl_3.rename(Dictionary_2014, axis = 1)"
      ]
    },
    {
      "cell_type": "code",
      "source": [
        "\n",
        "cl_union = pd.concat([df_cl_1,df_cl_2,df_cl_3], axis = 0) #Table that represents the total data from 2012 to 2014\n",
        "\n",
        "\n",
        "cl_union.info()\n"
      ],
      "metadata": {
        "id": "22pzGDeZEMzk"
      },
      "execution_count": null,
      "outputs": []
    },
    {
      "cell_type": "code",
      "source": [
        "cl_union.isnull().sum().sort_values(ascending = False)*100/len(cl_union)"
      ],
      "metadata": {
        "id": "d1_4qrs5ENoN"
      },
      "execution_count": null,
      "outputs": []
    },
    {
      "cell_type": "code",
      "source": [
        "cl_union.head()"
      ],
      "metadata": {
        "collapsed": true,
        "id": "Rr3FhMHDHEeE"
      },
      "execution_count": null,
      "outputs": []
    },
    {
      "cell_type": "markdown",
      "source": [
        "## Graph of top 20 cars with highest Co2 emissions"
      ],
      "metadata": {
        "id": "U-1ANGRpN8ya"
      }
    },
    {
      "cell_type": "code",
      "source": [
        "filtered_df = cl_union[['brand', 'Model_file', 'Model_UTAC', 'Commercial_name', 'CO2']].dropna(subset=['CO2'])\n",
        "\n",
        "# Sort the data by CO2 emissions in descending order and take the top 20\n",
        "top_cars = filtered_df.sort_values(by='CO2', ascending=False).head(20)\n",
        "\n",
        "# Combine brand and commercial name for better labels\n",
        "top_cars['Car'] = top_cars['brand'] + \" \" + top_cars['Commercial_name']\n",
        "\n",
        "# Create a horizontal bar plot of CO2 emissions by car model\n",
        "plt.figure(figsize=(12, 8))\n",
        "plt.barh(top_cars['Car'], top_cars['CO2'], color='skyblue')\n",
        "plt.xlabel('CO2 Emissions (g/km)')\n",
        "plt.ylabel('Car Model')\n",
        "plt.title('Top 20 Cars with Highest CO2 Emissions')\n",
        "plt.gca().invert_yaxis()  # Invert y-axis to have the highest CO2 emissions at the top\n",
        "\n",
        "# Highlight the car with the highest CO2 emissions\n",
        "max_co2 = top_cars['CO2'].max()\n",
        "max_co2_car = top_cars[top_cars['CO2'] == max_co2]['Car'].values[0]\n",
        "plt.barh(max_co2_car, max_co2, color='red')\n",
        "\n",
        "# Show the plot\n",
        "plt.tight_layout()\n",
        "plt.show()"
      ],
      "metadata": {
        "id": "YVmInr5nDhtv"
      },
      "execution_count": null,
      "outputs": []
    },
    {
      "cell_type": "code",
      "source": [
        "print(\"Column names and data types in the DataFrame:\")\n",
        "print(cl_union.dtypes)"
      ],
      "metadata": {
        "id": "-swjVquZOGxQ"
      },
      "execution_count": null,
      "outputs": []
    },
    {
      "cell_type": "markdown",
      "source": [
        "### **MATRIX CORRELATION and Heatmap to determine/visualize important variables**"
      ],
      "metadata": {
        "id": "nTlAobvoOcgG"
      }
    },
    {
      "cell_type": "code",
      "source": [],
      "metadata": {
        "id": "5mKFbXYcOkIo"
      },
      "execution_count": null,
      "outputs": []
    },
    {
      "cell_type": "markdown",
      "source": [
        "### **REMOVING DUPLICATES**"
      ],
      "metadata": {
        "id": "6MpDhf11SE6p"
      }
    },
    {
      "cell_type": "code",
      "source": [],
      "metadata": {
        "id": "dSlJu_cLSK9K"
      },
      "execution_count": null,
      "outputs": []
    },
    {
      "cell_type": "code",
      "source": [
        "\n",
        "# Print the first few rows to verify the data\n",
        "print(\"First few rows of the DataFrame:\")\n",
        "print(cl_union.head())\n",
        "\n",
        "# Print the data types of all columns to identify any datetime columns\n",
        "print(\"Data types of columns:\")\n",
        "print(cl_union.dtypes)\n",
        "\n",
        "# Identify and print duplicate columns\n",
        "duplicate_columns = cl_union.columns[cl_union.columns.duplicated()].unique()\n",
        "print(\"Duplicate columns:\", duplicate_columns)\n",
        "\n",
        "# Remove duplicate columns\n",
        "cl_union = cl_union.loc[:, ~cl_union.columns.duplicated()]\n",
        "\n",
        "# Verify columns are unique\n",
        "assert cl_union.columns.duplicated().sum() == 0, \"There are still duplicate columns\"\n",
        "\n",
        "# Print columns to verify duplicates are removed\n",
        "print(\"Columns after removing duplicates:\")\n",
        "print(cl_union.columns)\n"
      ],
      "metadata": {
        "id": "PMQJIrOrT2Ba",
        "collapsed": true
      },
      "execution_count": null,
      "outputs": []
    },
    {
      "cell_type": "markdown",
      "source": [
        "### **Standardizing THE DATA CL_UNION FROM COLUMN FUEL TYPE**"
      ],
      "metadata": {
        "id": "dxUuYzQtSg_N"
      }
    },
    {
      "cell_type": "markdown",
      "source": [],
      "metadata": {
        "id": "M9B0RPKQaiYx"
      }
    },
    {
      "cell_type": "markdown",
      "source": [
        "# ** Filling the Fuel Mode Fields according to the values from Fuel type and to fill in the blanks spaces later."
      ],
      "metadata": {
        "id": "ecCk7SIUHSNI"
      }
    },
    {
      "cell_type": "code",
      "source": [
        "def categorize_fuel_mode(fuel_type):\n",
        "\n",
        "    if fuel_type =='EL':\n",
        "\n",
        "        return 'Electric'\n",
        "\n",
        "    elif fuel_type == 'GP':\n",
        "\n",
        "        return 'Liquified_Petroleum_Gas'\n",
        "\n",
        "    elif fuel_type == 'FE':\n",
        "        return 'Superethanol_E85'\n",
        "\n",
        "    elif fuel_type == 'ES':\n",
        "        return 'Petrol_95'\n",
        "\n",
        "    elif fuel_type == 'GO':\n",
        "        return 'Diesel'\n",
        "\n",
        "    elif  fuel_type == 'GP/ES':\n",
        "        return 'Dual_fuel_petrol/Liquified_Petroleum_Gas'\n",
        "\n",
        "    elif  fuel_type  == 'EE':\n",
        "        return 'Hybrid_Petrol/Electric_plug_in'\n",
        "\n",
        "    elif  fuel_type  == 'ES/GP':\n",
        "        return 'Dual_fuel_petrol/Liquified_Petroleum_Gas'\n",
        "\n",
        "    elif  fuel_type  == 'nan':\n",
        "        return'NaN'\n",
        "\n",
        "    elif fuel_type == 'GN':\n",
        "        return 'Single_fuel_Natural_Gas'\n",
        "\n",
        "    elif  fuel_type == 'GN/ES':\n",
        "        return 'Dual_fuel_petrol/Natural_Gas'\n",
        "\n",
        "    elif  fuel_type == 'ES/GN':\n",
        "        return 'Dual_fuel_petrol/Natural_Gas'\n",
        "\n",
        "    elif  fuel_type =='EH':\n",
        "        return 'Hybrid_Petrol/Electric_non_plug_in'\n",
        "\n",
        "    elif  fuel_type == 'GH':\n",
        "        return 'Hybrid_Diesel/Electric_non_plug_in'\n",
        "\n",
        "\n",
        "    elif fuel_type == 'GL':\n",
        "        return 'Hybrid_Diesel/Electric_plug_in'\n",
        "\n",
        "    else:\n",
        "        return 'Diesel'\n",
        "\n",
        "cl_union['fuel_mode'] = cl_union['fuel_type'].apply(categorize_fuel_mode)\n",
        "cl_union['fuel_mode'] = cl_union['fuel_mode'].fillna(cl_union['fuel_mode'].mode()[0]) # fill blank with mode\n",
        "\n",
        "\n",
        "\n",
        "cl_union['fuel_mode'].unique()\n",
        "\n",
        "\n",
        "\n"
      ],
      "metadata": {
        "id": "0GzMDoZxacY0"
      },
      "execution_count": null,
      "outputs": []
    },
    {
      "cell_type": "code",
      "execution_count": null,
      "metadata": {
        "id": "M2rFZjLH4JNH",
        "collapsed": true
      },
      "outputs": [],
      "source": [
        "cl_union['fuel_type'].replace({'EL':'Electric', 'GP':'Liquified_Petroleum_Gas', 'FE':'Superethanol_E85', 'ES':'Petrol_95',\n",
        "       'GO':'Diesel', 'GH':'Hybrid_Diesel/Electric_non_plug_in','EH':'Hybrid_Petrol/Electric_non_plug_in', 'GP/ES':'Dual_fuel_petrol/Liquified_Petroleum_Gas', 'EE':'Hybrid_Petrol/Electric_plug_in', 'ES/GP':'Dual_fuel_petrol/Liquified_Petroleum_Gas',\n",
        "       'GN':'Single_fuel_Natural_Gas', 'GL': 'Hybrid_Diesel/Electric_plug_in','OTHER':'Other','GN/ES':'Dual_fuel_petrol/Natural_Gas','ES/GN':'Dual_fuel_petrol/Natural_Gas' },inplace = True) #To normalize the names of the types of Fuel\n",
        "\n",
        "\n",
        "sns.heatmap(pd.crosstab(cl_union['fuel_type'], cl_union['fuel_mode'],margins=True, margins_name= 'Totals',normalize = True, dropna = False),cmap=\"YlGnBu\", annot=True, cbar=True);\n",
        "plt.title('Fuel Type versus Fuel Mode for Autos -Normalize Data-');\n",
        "plt.xlabel('fuel Mode');\n",
        "plt.ylabel('Fuel Type');\n"
      ]
    },
    {
      "cell_type": "code",
      "source": [
        "cl_union['fuel_mode'] = cl_union['fuel_type'].apply(categorize_fuel_mode)\n",
        "\n",
        "# Check if 'Fuel_mode' has any non-missing values before filling\n",
        "if cl_union['fuel_mode'].notna().any():\n",
        "    cl_union['fuel_mode'] = cl_union['fuel_mode'].fillna(cl_union['fuel_mode'].mode()[0])\n",
        "else:\n",
        "    print(\"Warning: 'Fuel_mode' column contains only missing values after applying categorize_fuel_mode.\")\n",
        "\n",
        "cl_union['fuel_mode'].unique()"
      ],
      "metadata": {
        "id": "u0ibeMy7Wj8S"
      },
      "execution_count": null,
      "outputs": []
    },
    {
      "cell_type": "markdown",
      "source": [
        "### **Analysing target variable**"
      ],
      "metadata": {
        "id": "NVZsEftgcCbO"
      }
    },
    {
      "cell_type": "code",
      "source": [
        "# Explicitly convert all datetime columns to Unix timestamp\n",
        "for col in filtered_df.columns:\n",
        "    if pd.api.types.is_datetime64_any_dtype(filtered_df[col]):\n",
        "        print(f\"Converting '{col}' to Unix timestamp.\")\n",
        "        filtered_df[col] = filtered_df[col].apply(lambda x: x.timestamp() if pd.notnull(x) else None)\n",
        "\n",
        "# Verify conversion\n",
        "datetime_columns = filtered_df.select_dtypes(include=['datetime']).columns\n",
        "if len(datetime_columns) > 0:\n",
        "    print(\"There are still datetime columns:\", datetime_columns)\n",
        "else:\n",
        "    print(\"All datetime columns successfully converted.\")\n",
        "\n",
        "# Proceed with the correlation analysis\n",
        "numerical_columns = ['CO2', 'Administrative_power', 'power_maximal (kW)', 'Urban_consumption (l/100km)',\n",
        "    'Extra_urban_consumption(l/100km)', 'Consumption_mix(l/100km)', 'CO_type_I (g/km)',\n",
        "    'Hydrocarbon', 'nitrogen oxides', 'hydrocarbon and nitrogen oxides', 'Particles (g/km)',\n",
        "    'Empty_mass_min(kg)', 'Empty_mass_max(kg)', 'range']\n",
        "\n",
        "# Ensure the numerical columns exist in the DataFrame and are of numeric type\n",
        "numerical_columns = [col for col in numerical_columns if col in filtered_df.columns and\n",
        "                     pd.api.types.is_numeric_dtype(filtered_df[col])]\n",
        "\n",
        "# Create a scatter plot matrix\n",
        "sns.pairplot(filtered_df[numerical_columns])\n",
        "plt.suptitle('Scatter Plot Matrix of CO2 and Related Variables', y=1.02)\n",
        "plt.show()\n",
        "\n",
        "# Create a heatmap to visualize the correlation matrix\n",
        "correlation_matrix = filtered_df[numerical_columns].corr()\n",
        "\n",
        "plt.figure(figsize=(14, 8))\n",
        "sns.heatmap(correlation_matrix, annot=True, cmap='coolwarm', fmt='.2f')\n",
        "plt.title('Correlation Matrix with CO2 Emissions')\n",
        "plt.show()\n",
        "\n",
        "# Print the correlation matrix to identify the variables that correlate the most with CO2 emissions\n",
        "print(\"Correlation matrix with CO2 emissions:\")\n",
        "print(correlation_matrix['CO2'].sort_values(ascending=False))"
      ],
      "metadata": {
        "id": "zZGZE3SSRQEC"
      },
      "execution_count": null,
      "outputs": []
    },
    {
      "cell_type": "markdown",
      "source": [
        "## **Research relationship between CO2 emissions and Consumption mix**"
      ],
      "metadata": {
        "id": "V9c55i0qOTyA"
      }
    },
    {
      "cell_type": "code",
      "source": [
        "co2_col = 'CO2'  # Replace with the correct column name for CO2\n",
        "# Let's assume the correct column name for consumption mix is something like 'Consumption_mix_l_per_100km'\n",
        "consumption_col ='Consumption_mix(l/100km)'  # Replace with the correct column name for consumption mix\n",
        "\n",
        "# Convert relevant columns to numerical types if they are not already\n",
        "cl_union[co2_col] = pd.to_numeric(cl_union[co2_col], errors='coerce')\n",
        "cl_union[consumption_col] = pd.to_numeric(cl_union[consumption_col], errors='coerce')\n",
        "\n",
        "# Select relevant variables and drop rows with missing values in any of the important columns\n",
        "filtered_df = cl_union[['brand', 'Model_file', 'Commercial_name', co2_col, consumption_col]].dropna(subset=[co2_col, consumption_col])\n",
        "\n",
        "# Combine brand and commercial name for better labels\n",
        "filtered_df['Car'] = filtered_df['brand'] + \" \" + filtered_df['Commercial_name']\n",
        "\n",
        "# Create a scatter plot\n",
        "plt.figure(figsize=(12, 8))\n",
        "\n",
        "# Scatter plot for CO2 vs. Consumption_mix\n",
        "scatter = plt.scatter(\n",
        "    filtered_df[co2_col],\n",
        "    filtered_df[consumption_col],\n",
        "    alpha=0.6,\n",
        "    c=filtered_df[consumption_col],  # Color by Consumption_mix for additional dimension\n",
        "    cmap='viridis'\n",
        ")\n",
        "\n",
        "plt.colorbar(scatter, label='Consumption Mix (l/100km)' )\n",
        "plt.xlabel('CO2 Emissions (g/km)')\n",
        "plt.ylabel('Consumption_mix (l/100km)' )\n",
        "plt.title('Scatter Plot of CO2 Emissions and Consumption Mix')\n",
        "\n",
        "# Highlight the car with the highest CO2 emissions\n",
        "max_co2 = filtered_df[co2_col].max()\n",
        "max_co2_car = filtered_df[filtered_df[co2_col] == max_co2]\n",
        "plt.scatter(max_co2_car[co2_col], max_co2_car[consumption_col], color='red', edgecolor='black', label='Highest CO2 Emitter')\n",
        "\n",
        "# Add legend\n",
        "plt.legend(loc='upper right')\n",
        "\n",
        "# Show the plot\n",
        "plt.tight_layout()\n",
        "plt.show()"
      ],
      "metadata": {
        "id": "WLM511H1DlNL"
      },
      "execution_count": null,
      "outputs": []
    },
    {
      "cell_type": "code",
      "source": [],
      "metadata": {
        "id": "ZTv4BaPjeiZ1"
      },
      "execution_count": null,
      "outputs": []
    },
    {
      "cell_type": "markdown",
      "metadata": {
        "id": "t0-RS3hoYKTa"
      },
      "source": [
        "## **which cars are outliers based on carosserie and maximal engine power**"
      ]
    },
    {
      "cell_type": "code",
      "execution_count": null,
      "metadata": {
        "id": "FMXnVIBZYJ1F"
      },
      "outputs": [],
      "source": [
        "# Print column names to verify\n",
        "print(\"Column names in the DataFrame:\")\n",
        "print(cl_union.columns.tolist())\n",
        "\n",
        "# Correct column names based on the previous print output\n",
        "# Update these variables according to your actual column names\n",
        "carrosserie_col = 'Carrosserie'  # Replace with the correct column name for Carrosserie\n",
        "power_col = 'power_maximal (kW)'  # Replace with the correct column name for power_maximal\n",
        "\n",
        "# Convert relevant columns to numerical types if they are not already\n",
        "cl_union[power_col] = pd.to_numeric(cl_union[power_col], errors='coerce')\n",
        "\n",
        "# Select relevant variables and drop rows with missing values in any of the important columns\n",
        "filtered_df = cl_union[[carrosserie_col, power_col]].dropna(subset=[power_col])\n",
        "\n",
        "# Identify outliers based on power_maximal (kW)\n",
        "Q1 = filtered_df[power_col].quantile(0.25)\n",
        "Q3 = filtered_df[power_col].quantile(0.75)\n",
        "IQR = Q3 - Q1\n",
        "outliers = filtered_df[(filtered_df[power_col] < (Q1 - 1.5 * IQR)) | (filtered_df[power_col] > (Q3 + 1.5 * IQR))]\n",
        "\n",
        "# Create a scatter plot\n",
        "plt.figure(figsize=(12, 8))\n",
        "\n",
        "# Scatter plot for power_maximal with Carrosserie as hue\n",
        "sns.scatterplot(data=filtered_df, x=power_col, y=carrosserie_col, hue=carrosserie_col, palette='viridis', alpha=0.6, edgecolor='w', s=100)\n",
        "\n",
        "# Highlight outliers with a different color and marker\n",
        "plt.scatter(outliers[power_col], outliers[carrosserie_col], color='red', edgecolor='black', s=100, marker='D', label='Outliers')\n",
        "\n",
        "plt.xlabel('Power Maximal (kW)')\n",
        "plt.ylabel('Carrosserie')\n",
        "plt.title('Scatter Plot of Power Maximal (kW) by Carrosserie with Outliers Highlighted')\n",
        "\n",
        "# Show the plot\n",
        "plt.legend(loc='upper right')\n",
        "plt.tight_layout()\n",
        "plt.show()\n",
        "\n",
        "# Print the outliers\n",
        "print(\"Outliers based on Power Maximal (kW):\")\n",
        "print(outliers)"
      ]
    },
    {
      "cell_type": "code",
      "source": [],
      "metadata": {
        "id": "Gz_SFLzAexvg"
      },
      "execution_count": null,
      "outputs": []
    },
    {
      "cell_type": "code",
      "execution_count": null,
      "metadata": {
        "id": "HYDuD8ELalII"
      },
      "outputs": [],
      "source": [
        "print(\"Column names in the DataFrame:\")\n",
        "print(cl_union.columns.tolist())\n",
        "\n",
        "# Correct column names based on the previous print output\n",
        "# Update these variables according to your actual column names\n",
        "carrosserie_col = 'Carrosserie'  # Replace with the correct column name for Carrosserie\n",
        "power_col = 'power_maximal (kW)'  # Replace with the correct column name for power_maximal\n",
        "\n",
        "# Convert relevant columns to numerical types if they are not already\n",
        "cl_union[power_col] = pd.to_numeric(cl_union[power_col], errors='coerce')\n",
        "\n",
        "# Select relevant variables and drop rows with missing values in any of the important columns\n",
        "filtered_df = cl_union[[carrosserie_col, power_col]].dropna(subset=[power_col])\n",
        "\n",
        "# Filter the DataFrame to include only cars with power_maximal (kW) of 180 and more\n",
        "filtered_df = filtered_df[filtered_df[power_col] >= 180]\n",
        "\n",
        "# Create a scatter plot\n",
        "plt.figure(figsize=(12, 8))\n",
        "\n",
        "# Scatter plot for power_maximal with Carrosserie as hue\n",
        "sns.scatterplot(data=filtered_df, x=power_col, y=carrosserie_col, hue=carrosserie_col, palette='viridis', alpha=0.6, edgecolor='w', s=100)\n",
        "\n",
        "plt.xlabel('Power Maximal (kW)')\n",
        "plt.ylabel('Carrosserie')\n",
        "plt.title('Scatter Plot of Power Maximal (kW) by Carrosserie (180 kW and above)')\n",
        "\n",
        "# Show the plot\n",
        "plt.legend(loc='upper right')\n",
        "plt.tight_layout()\n",
        "plt.show()"
      ]
    },
    {
      "cell_type": "code",
      "source": [
        "import pandas as pd\n",
        "\n",
        "# Assuming cl_union is the DataFrame that already contains your combined data\n",
        "# Print column names to verify\n",
        "print(\"Column names in the DataFrame:\")\n",
        "print(cl_union.columns.tolist())\n",
        "\n",
        "# Correct column names based on the previous print output\n",
        "consumption_col = 'Consumption_mix(l/100km)'  # Replace with the correct column name for consumption mix\n",
        "\n",
        "# Convert the consumption_mix (l/100km) column to numerical type if it is not already\n",
        "cl_union[consumption_col] = pd.to_numeric(cl_union[consumption_col], errors='coerce')\n",
        "\n",
        "# Filter numeric columns\n",
        "numeric_columns = cl_union.select_dtypes(include=['float64', 'int64']).columns\n",
        "\n",
        "# Calculate the correlation matrix using only numeric columns\n",
        "correlation_matrix = cl_union[numeric_columns].corr()\n",
        "\n",
        "# Display the correlation of all variables with consumption_mix (l/100km)\n",
        "consumption_correlations = correlation_matrix[consumption_col].sort_values(ascending=False)\n",
        "print(\"Correlation of variables with consumption_mix (l/100km):\")\n",
        "print(consumption_correlations)\n"
      ],
      "metadata": {
        "id": "3sPwMPmItmf5"
      },
      "execution_count": null,
      "outputs": []
    },
    {
      "cell_type": "code",
      "source": [
        "# Sort the DataFrame by consumption_mix (l/100km) in descending order and select the top 20 rows\n",
        "top_20_consumption_cars = cl_union.sort_values(by=consumption_col, ascending=False).head(20)\n",
        "\n",
        "# Display the top 20 cars with the highest consumption_mix (l/100km) and relevant features\n",
        "relevant_features = ['brand', 'Model_file', 'Administrative_power', 'power_maximal (kW)', 'Empty_mass_min(kg)', 'Empty_mass_max(kg)', consumption_col]\n",
        "print(\"Top 20 cars with the highest consumption_mix (l/100km) and relevant features:\")\n",
        "print(top_20_consumption_cars[relevant_features])\n"
      ],
      "metadata": {
        "id": "RgAomtESuFso",
        "collapsed": true
      },
      "execution_count": null,
      "outputs": []
    },
    {
      "cell_type": "code",
      "source": [
        "import pandas as pd\n",
        "\n",
        "# Assuming cl_union is the DataFrame that already contains your combined data\n",
        "# Print column names to verify\n",
        "print(\"Column names in the DataFrame:\")\n",
        "print(cl_union.columns.tolist())\n",
        "\n",
        "# Correct column names based on the previous print output\n",
        "co2_col = 'CO2'  # Replace with the correct column name for CO2\n",
        "fuel_type_col = 'fuel_type'  # Replace with the correct column name for fuel_type\n",
        "\n",
        "# Convert the CO2 column to numerical type if it is not already\n",
        "cl_union[co2_col] = pd.to_numeric(cl_union[co2_col], errors='coerce')\n",
        "\n",
        "# Filter the DataFrame to include only cars with CO2 emissions of 95 or lower\n",
        "filtered_df = cl_union[cl_union[co2_col] <= 95]\n",
        "\n",
        "# Display the filtered DataFrame\n",
        "print(\"Cars with CO2 emissions of 95 or lower:\")\n",
        "print(filtered_df)\n",
        "\n",
        "# Optionally, save the filtered DataFrame to a new Excel file\n",
        "# filtered_df.to_excel('cars_with_co2_95_or_lower.xlsx', index=False)\n"
      ],
      "metadata": {
        "id": "2Ux-as615WR_",
        "collapsed": true
      },
      "execution_count": null,
      "outputs": []
    },
    {
      "cell_type": "code",
      "source": [],
      "metadata": {
        "id": "VeoxT904fiGA"
      },
      "execution_count": null,
      "outputs": []
    },
    {
      "cell_type": "code",
      "source": [
        "# Describe the common characteristics\n",
        "common_characteristics = filtered_df.describe(include='all')\n",
        "\n",
        "\n",
        "\n",
        "print(\"\\nMost common brands:\")\n",
        "print(common_brands)\n",
        "\n",
        "print(\"\\nMost common models:\")\n",
        "print(common_models)\n",
        "\n",
        "print(\"\\nMost common fuel types:\")\n",
        "print(common_fuel_types)\n"
      ],
      "metadata": {
        "id": "-TKS_x6z5cVl",
        "collapsed": true
      },
      "execution_count": null,
      "outputs": []
    },
    {
      "cell_type": "markdown",
      "source": [
        "### **EMISSION TREND ANALYSIS**"
      ],
      "metadata": {
        "id": "-dhrtLpIf_bD"
      }
    },
    {
      "cell_type": "code",
      "source": [
        "df_cl_1['Year'] = 2012\n",
        "df_cl_2['Year'] = 2013\n",
        "df_cl_3['Year'] = 2014\n"
      ],
      "metadata": {
        "id": "tY-Fm483scZf"
      },
      "execution_count": null,
      "outputs": []
    },
    {
      "cell_type": "code",
      "source": [
        "# Standardize the column names before merging\n",
        "df_cl_1.rename(columns={'Modèle dossier': 'Model_file'}, inplace=True)\n",
        "df_cl_2.rename(columns={'Modèle dossier': 'Model_file'}, inplace=True)\n",
        "df_cl_3.rename(columns={'Modèle dossier': 'Model_file'}, inplace=True)\n"
      ],
      "metadata": {
        "id": "NuDHavFKwS22"
      },
      "execution_count": null,
      "outputs": []
    },
    {
      "cell_type": "code",
      "source": [
        "cl_union = pd.concat([df_cl_1, df_cl_2, df_cl_3], axis=0, ignore_index=True)\n",
        "cl_union.info()"
      ],
      "metadata": {
        "id": "1hUEjkgbtAKs"
      },
      "execution_count": null,
      "outputs": []
    },
    {
      "cell_type": "code",
      "source": [
        "# Group by Year and Model to get average CO2 emissions per model each year\n",
        "yearly_emissions_model = cl_union.groupby(['Year', 'Model_file'])['CO2'].mean().reset_index()\n",
        "\n",
        "# Group by Year and Carrosserie (vehicle type) to get average CO2 emissions per type each year\n",
        "yearly_emissions_type = cl_union.groupby(['Year', 'Carrosserie'])['CO2'].mean().reset_index()\n",
        "\n",
        "print(yearly_emissions_model.head())"
      ],
      "metadata": {
        "id": "5U7wlWKJtOcN",
        "collapsed": true
      },
      "execution_count": null,
      "outputs": []
    },
    {
      "cell_type": "code",
      "source": [
        "import matplotlib.pyplot as plt\n",
        "\n",
        "# Get the top 5 models based on the combined data\n",
        "top_models = cl_union['Model_file'].value_counts().head(5).index.tolist()\n",
        "print(\"Top models selected:\", top_models)\n",
        "\n",
        "# Filter the DataFrame for these top models\n",
        "filtered_yearly_emissions = yearly_emissions_model[yearly_emissions_model['Model_file'].isin(top_models)]\n",
        "\n",
        "# Plot the data\n",
        "plt.figure(figsize=(14, 8))\n",
        "\n",
        "for model in top_models:\n",
        "    model_data = filtered_yearly_emissions[filtered_yearly_emissions['Model_file'] == model]\n",
        "    plt.plot(model_data['Year'], model_data['CO2'], marker='o', label=model)\n",
        "\n",
        "plt.xlabel('Year')\n",
        "plt.ylabel('Average CO2 Emissions (g/km)')\n",
        "plt.title('CO2 Emission Trends Over Time by Vehicle Model')\n",
        "plt.legend(title='Vehicle Model')\n",
        "plt.grid(True)\n",
        "plt.show()\n"
      ],
      "metadata": {
        "id": "JPcXqtJNwhLR"
      },
      "execution_count": null,
      "outputs": []
    },
    {
      "cell_type": "code",
      "source": [
        "# Select top 5 vehicle types for simplicity\n",
        "top_vehicle_types = yearly_emissions_type['Carrosserie'].value_counts().head(5).index.tolist()\n",
        "\n",
        "plt.figure(figsize=(14, 8))\n",
        "\n",
        "for vehicle_type in top_vehicle_types:\n",
        "    type_data = yearly_emissions_type[yearly_emissions_type['Carrosserie'] == vehicle_type]\n",
        "    plt.plot(type_data['Year'], type_data['CO2'], marker='o', label=vehicle_type)\n",
        "\n",
        "plt.xlabel('Year')\n",
        "plt.ylabel('Average CO2 Emissions (g/km)')\n",
        "plt.title('CO2 Emission Trends Over Time by Vehicle Type')\n",
        "plt.legend(title='Vehicle Type')\n",
        "plt.grid(True)\n",
        "plt.show()\n"
      ],
      "metadata": {
        "id": "I3C2wW26wxiw"
      },
      "execution_count": null,
      "outputs": []
    },
    {
      "cell_type": "code",
      "source": [
        "import matplotlib.pyplot as plt\n",
        "\n",
        "# Group by Year and Model to get average CO2 emissions per model each year\n",
        "yearly_emissions_brand = cl_union.groupby(['Year', 'brand'])['CO2'].mean().reset_index()\n",
        "\n",
        "\n",
        "# Get the top 5 models based on the combined data\n",
        "top_brands = cl_union['brand'].value_counts().head(10).index.tolist()\n",
        "print(\"Top brands selected:\", top_brands)\n",
        "\n",
        "# Filter the DataFrame for these top models\n",
        "filtered_yearly_emissions = yearly_emissions_brand [yearly_emissions_brand ['brand'].isin(top_brands)]\n",
        "\n",
        "# Plot the data\n",
        "plt.figure(figsize=(14, 8))\n",
        "\n",
        "for model in top_brands:\n",
        "    model_data = filtered_yearly_emissions[filtered_yearly_emissions['brand'] == model]\n",
        "    plt.plot(model_data['Year'], model_data['CO2'], marker='o', label=model)\n",
        "\n",
        "plt.xlabel('Year')\n",
        "plt.ylabel('Average CO2 Emissions (g/km)')\n",
        "plt.title('CO2 Emission Trends Over Time by Brand')\n",
        "plt.legend(title='Brand')\n",
        "plt.grid(True)\n",
        "plt.show()\n"
      ],
      "metadata": {
        "id": "L-fcTUo3-KrC"
      },
      "execution_count": null,
      "outputs": []
    },
    {
      "cell_type": "code",
      "source": [
        "# Filter the data for the winning model across all years\n",
        "winning_model = 'SKODA'  # Replace with the actual model name\n",
        "\n",
        "# Filter the data for the specific model\n",
        "model_data = cl_union [cl_union['brand'] == winning_model]\n",
        "\n",
        "# Ensure that only numeric columns are aggregated\n",
        "numeric_columns = model_data.select_dtypes(include=['number']).columns\n",
        "\n",
        "# Group by 'Year' and calculate the mean for numeric columns only\n",
        "spec_changes = model_data.groupby('Year')[numeric_columns].mean()\n",
        "\n",
        "print(\"Technical specifications over time for the winning model:\")\n",
        "print(spec_changes)\n",
        "\n",
        "# Plot the changes in key specifications\n",
        "import matplotlib.pyplot as plt\n",
        "\n",
        "plt.figure(figsize=(12, 8))\n",
        "plt.plot(spec_changes.index, spec_changes['power_maximal (kW)'], marker='o', label='Maximal Power (kW)')\n",
        "plt.plot(spec_changes.index, spec_changes['Empty_mass_max(kg)'], marker='o', label='Empty Mass Max (kg)')\n",
        "plt.plot(spec_changes.index, spec_changes['Administrative_power'], marker='o', label='Administrative Power')\n",
        "\n",
        "plt.xlabel('Year')\n",
        "plt.ylabel('Values')\n",
        "plt.title(f'Changes in Technical Specifications for {winning_model}')\n",
        "plt.legend()\n",
        "plt.grid(True)\n",
        "plt.show()\n"
      ],
      "metadata": {
        "id": "ysOpaXQCDQou"
      },
      "execution_count": null,
      "outputs": []
    },
    {
      "cell_type": "code",
      "source": [
        "\n",
        "# List of all split columns\n",
        "fuel_type_columns = [col for col in cl_union.columns if 'fuel_type_' in col]\n",
        "\n",
        "# Function to combine them back into a single column\n",
        "def combine_fuel_type(row):\n",
        "    for col in fuel_type_columns:\n",
        "        if row[col] == 1:\n",
        "            return col.split('_')[-1]\n",
        "\n",
        "# Apply the function to create a single 'fuel_type' column\n",
        "cl_union['fuel_type'] = cl_union.apply(combine_fuel_type, axis=1)\n",
        "\n",
        "# Now drop the split columns\n",
        "cl_union = cl_union.drop(columns=fuel_type_columns)\n",
        "\n",
        "# Verify the result\n",
        "print(cl_union['fuel_type'].unique())\n"
      ],
      "metadata": {
        "id": "EggDtJFfIdnf"
      },
      "execution_count": null,
      "outputs": []
    },
    {
      "cell_type": "code",
      "source": [
        "# List of all split columns\n",
        "fuel_type_columns = [col for col in cl_union.columns if 'fuel_type_' in col]\n",
        "print(cl_union['fuel_type'].head())\n"
      ],
      "metadata": {
        "id": "SNkGtxK5iEuf"
      },
      "execution_count": null,
      "outputs": []
    }
  ]
}